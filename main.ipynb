{
 "cells": [
  {
   "cell_type": "code",
   "execution_count": 59,
   "id": "984f9da1",
   "metadata": {},
   "outputs": [
    {
     "name": "stdout",
     "output_type": "stream",
     "text": [
      "Found existing installation: transformers 4.57.1\n",
      "Uninstalling transformers-4.57.1:\n",
      "  Successfully uninstalled transformers-4.57.1\n",
      "Found existing installation: datasets 4.2.0\n",
      "Uninstalling datasets-4.2.0:\n",
      "  Successfully uninstalled datasets-4.2.0\n"
     ]
    },
    {
     "name": "stderr",
     "output_type": "stream",
     "text": [
      "WARNING: Skipping pyarrow as it is not installed.\n"
     ]
    },
    {
     "name": "stdout",
     "output_type": "stream",
     "text": [
      "Requirement already satisfied: torch in c:\\users\\pc\\anaconda3\\lib\\site-packages (2.9.0)\n",
      "Requirement already satisfied: scikit-learn in c:\\users\\pc\\anaconda3\\lib\\site-packages (1.6.1)\n",
      "Requirement already satisfied: matplotlib in c:\\users\\pc\\anaconda3\\lib\\site-packages (3.10.0)\n",
      "Requirement already satisfied: pandas in c:\\users\\pc\\anaconda3\\lib\\site-packages (2.2.3)\n",
      "Requirement already satisfied: numpy in c:\\users\\pc\\anaconda3\\lib\\site-packages (2.1.3)\n",
      "Requirement already satisfied: tqdm in c:\\users\\pc\\anaconda3\\lib\\site-packages (4.67.1)\n",
      "Requirement already satisfied: filelock in c:\\users\\pc\\anaconda3\\lib\\site-packages (from torch) (3.17.0)\n",
      "Requirement already satisfied: typing-extensions>=4.10.0 in c:\\users\\pc\\anaconda3\\lib\\site-packages (from torch) (4.12.2)\n",
      "Requirement already satisfied: sympy>=1.13.3 in c:\\users\\pc\\anaconda3\\lib\\site-packages (from torch) (1.13.3)\n",
      "Requirement already satisfied: networkx>=2.5.1 in c:\\users\\pc\\anaconda3\\lib\\site-packages (from torch) (3.4.2)\n",
      "Requirement already satisfied: jinja2 in c:\\users\\pc\\anaconda3\\lib\\site-packages (from torch) (3.1.6)\n",
      "Requirement already satisfied: fsspec>=0.8.5 in c:\\users\\pc\\anaconda3\\lib\\site-packages (from torch) (2025.3.2)\n",
      "Requirement already satisfied: setuptools in c:\\users\\pc\\anaconda3\\lib\\site-packages (from torch) (72.1.0)\n",
      "Requirement already satisfied: scipy>=1.6.0 in c:\\users\\pc\\anaconda3\\lib\\site-packages (from scikit-learn) (1.15.3)\n",
      "Requirement already satisfied: joblib>=1.2.0 in c:\\users\\pc\\anaconda3\\lib\\site-packages (from scikit-learn) (1.4.2)\n",
      "Requirement already satisfied: threadpoolctl>=3.1.0 in c:\\users\\pc\\anaconda3\\lib\\site-packages (from scikit-learn) (3.5.0)\n",
      "Requirement already satisfied: contourpy>=1.0.1 in c:\\users\\pc\\anaconda3\\lib\\site-packages (from matplotlib) (1.3.1)\n",
      "Requirement already satisfied: cycler>=0.10 in c:\\users\\pc\\anaconda3\\lib\\site-packages (from matplotlib) (0.11.0)\n",
      "Requirement already satisfied: fonttools>=4.22.0 in c:\\users\\pc\\anaconda3\\lib\\site-packages (from matplotlib) (4.55.3)\n",
      "Requirement already satisfied: kiwisolver>=1.3.1 in c:\\users\\pc\\anaconda3\\lib\\site-packages (from matplotlib) (1.4.8)\n",
      "Requirement already satisfied: packaging>=20.0 in c:\\users\\pc\\anaconda3\\lib\\site-packages (from matplotlib) (24.2)\n",
      "Requirement already satisfied: pillow>=8 in c:\\users\\pc\\anaconda3\\lib\\site-packages (from matplotlib) (11.1.0)\n",
      "Requirement already satisfied: pyparsing>=2.3.1 in c:\\users\\pc\\anaconda3\\lib\\site-packages (from matplotlib) (3.2.0)\n",
      "Requirement already satisfied: python-dateutil>=2.7 in c:\\users\\pc\\anaconda3\\lib\\site-packages (from matplotlib) (2.9.0.post0)\n",
      "Requirement already satisfied: pytz>=2020.1 in c:\\users\\pc\\anaconda3\\lib\\site-packages (from pandas) (2024.1)\n",
      "Requirement already satisfied: tzdata>=2022.7 in c:\\users\\pc\\anaconda3\\lib\\site-packages (from pandas) (2025.2)\n",
      "Requirement already satisfied: colorama in c:\\users\\pc\\anaconda3\\lib\\site-packages (from tqdm) (0.4.6)\n",
      "Requirement already satisfied: six>=1.5 in c:\\users\\pc\\anaconda3\\lib\\site-packages (from python-dateutil>=2.7->matplotlib) (1.17.0)\n",
      "Requirement already satisfied: mpmath<1.4,>=1.1.0 in c:\\users\\pc\\anaconda3\\lib\\site-packages (from sympy>=1.13.3->torch) (1.3.0)\n",
      "Requirement already satisfied: MarkupSafe>=2.0 in c:\\users\\pc\\anaconda3\\lib\\site-packages (from jinja2->torch) (3.0.2)\n"
     ]
    }
   ],
   "source": [
    "# First, let's clean install the absolute minimum\n",
    "import sys\n",
    "!{sys.executable} -m pip uninstall -y transformers datasets pyarrow\n",
    "!{sys.executable} -m pip install torch scikit-learn matplotlib pandas numpy tqdm"
   ]
  },
  {
   "cell_type": "code",
   "execution_count": 1,
   "id": "d814e21c",
   "metadata": {},
   "outputs": [],
   "source": [
    "import pandas as pd \n",
    "import numpy as np  \n",
    "import matplotlib.pyplot as plt \n",
    "from sklearn.model_selection import train_test_split    \n",
    "from sklearn.metrics import accuracy_score, classification_report, confusion_matrix, ConfusionMatrixDisplay\n",
    "from sklearn.preprocessing import LabelEncoder\n",
    "import torch\n",
    "import torch.nn as nn\n",
    "from torch.utils.data import Dataset, DataLoader\n",
    "from torch.optim import AdamW\n",
    "import tqdm\n",
    "import re\n",
    "import collections"
   ]
  },
  {
   "cell_type": "code",
   "execution_count": 3,
   "id": "51664267",
   "metadata": {},
   "outputs": [
    {
     "name": "stdout",
     "output_type": "stream",
     "text": [
      "                                                text            label\n",
      "0  The patient is other, age: 78, height: 196.3 c...  patient history\n",
      "1  The patient was diagnosed with inflammation, f...        diagnosis\n",
      "2  The treatment provided was amlodipine, for 30 ...        treatment\n",
      "3  The patient is female, age: 57, height: 195.6 ...  patient history\n",
      "4  The patient was diagnosed with depression, fat...        diagnosis\n",
      "\n",
      "Label distribution:\n",
      " label\n",
      "patient history    1000\n",
      "diagnosis          1000\n",
      "treatment          1000\n",
      "Name: count, dtype: int64\n"
     ]
    }
   ],
   "source": [
    "# Load your dataset\n",
    "data = pd.read_csv(\"refined_medical_dataset.csv\")\n",
    "\n",
    "# Check basic info\n",
    "print(data.head())\n",
    "print(\"\\nLabel distribution:\\n\", data['label'].value_counts())"
   ]
  },
  {
   "cell_type": "code",
   "execution_count": 4,
   "id": "0026d21e",
   "metadata": {},
   "outputs": [
    {
     "name": "stdout",
     "output_type": "stream",
     "text": [
      "Training samples: 2100\n",
      "Validation samples: 450\n",
      "Test samples: 450\n"
     ]
    }
   ],
   "source": [
    "# Encode text labels into numeric IDs\n",
    "le = LabelEncoder()\n",
    "data[\"label\"] = le.fit_transform(data[\"label\"])\n",
    "\n",
    "# Split into train / validation / test\n",
    "train_texts, temp_texts, train_labels, temp_labels = train_test_split(\n",
    "    data[\"text\"], data[\"label\"], test_size=0.3, random_state=42, stratify=data[\"label\"]\n",
    ")\n",
    "val_texts, test_texts, val_labels, test_labels = train_test_split(\n",
    "    temp_texts, temp_labels, test_size=0.5, random_state=42, stratify=temp_labels\n",
    ")\n",
    "\n",
    "print(f\"Training samples: {len(train_texts)}\")\n",
    "print(f\"Validation samples: {len(val_texts)}\")\n",
    "print(f\"Test samples: {len(test_texts)}\")"
   ]
  },
  {
   "cell_type": "code",
   "execution_count": 5,
   "id": "18d9b123",
   "metadata": {},
   "outputs": [],
   "source": [
    "# Build a simple vocabulary-based tokenizer\n",
    "class SimpleTokenizer:\n",
    "    def __init__(self, vocab_size=10000):\n",
    "        self.vocab_size = vocab_size\n",
    "        self.word_to_idx = {}\n",
    "        self.idx_to_word = {}\n",
    "        self.vocab = set()\n",
    "        \n",
    "    def build_vocab(self, texts):\n",
    "        # Count word frequencies\n",
    "        word_freq = collections.Counter()\n",
    "        for text in texts:\n",
    "            words = self._preprocess(text)\n",
    "            word_freq.update(words)\n",
    "        \n",
    "        # Build vocabulary\n",
    "        most_common = word_freq.most_common(self.vocab_size - 2)  # Reserve for UNK and PAD\n",
    "        self.word_to_idx = {'[PAD]': 0, '[UNK]': 1}\n",
    "        self.idx_to_word = {0: '[PAD]', 1: '[UNK]'}\n",
    "        \n",
    "        for idx, (word, _) in enumerate(most_common, start=2):\n",
    "            self.word_to_idx[word] = idx\n",
    "            self.idx_to_word[idx] = word\n",
    "    \n",
    "    def _preprocess(self, text):\n",
    "        # Simple preprocessing: lowercase and split\n",
    "        text = text.lower()\n",
    "        words = re.findall(r'\\b\\w+\\b', text)\n",
    "        return words\n",
    "    \n",
    "    def encode(self, texts, max_length=128):\n",
    "        input_ids = []\n",
    "        attention_masks = []\n",
    "        \n",
    "        for text in texts:\n",
    "            words = self._preprocess(text)\n",
    "            tokens = [self.word_to_idx.get(word, 1) for word in words]  # 1 is UNK token\n",
    "            \n",
    "            # Truncate or pad\n",
    "            if len(tokens) > max_length:\n",
    "                tokens = tokens[:max_length]\n",
    "                attention_mask = [1] * max_length\n",
    "            else:\n",
    "                padding = [0] * (max_length - len(tokens))\n",
    "                tokens = tokens + padding\n",
    "                attention_mask = [1] * len(words) + padding\n",
    "            \n",
    "            input_ids.append(tokens)\n",
    "            attention_masks.append(attention_mask)\n",
    "        \n",
    "        return {\n",
    "            'input_ids': np.array(input_ids),\n",
    "            'attention_mask': np.array(attention_masks)\n",
    "        }"
   ]
  },
  {
   "cell_type": "code",
   "execution_count": 6,
   "id": "8607d63a",
   "metadata": {},
   "outputs": [
    {
     "name": "stdout",
     "output_type": "stream",
     "text": [
      "Building vocabulary...\n",
      "Vocabulary size: 218\n"
     ]
    }
   ],
   "source": [
    "# Build the tokenizer\n",
    "print(\"Building vocabulary...\")\n",
    "tokenizer = SimpleTokenizer(vocab_size=10000)\n",
    "tokenizer.build_vocab(train_texts)\n",
    "print(f\"Vocabulary size: {len(tokenizer.word_to_idx)}\")"
   ]
  },
  {
   "cell_type": "code",
   "execution_count": 7,
   "id": "32b14d69",
   "metadata": {},
   "outputs": [],
   "source": [
    "# Create a simple neural network model\n",
    "class SimpleTextClassifier(nn.Module):\n",
    "    def __init__(self, vocab_size, embedding_dim=128, hidden_dim=256, num_classes=3):\n",
    "        super(SimpleTextClassifier, self).__init__()\n",
    "        self.embedding = nn.Embedding(vocab_size, embedding_dim, padding_idx=0)\n",
    "        self.lstm = nn.LSTM(embedding_dim, hidden_dim, batch_first=True, bidirectional=True)\n",
    "        self.dropout = nn.Dropout(0.3)\n",
    "        self.classifier = nn.Linear(hidden_dim * 2, num_classes)  # *2 for bidirectional\n",
    "        \n",
    "    def forward(self, input_ids, attention_mask):\n",
    "        # Get embeddings\n",
    "        embeddings = self.embedding(input_ids)\n",
    "        \n",
    "        # Apply attention mask (optional for LSTM)\n",
    "        lengths = attention_mask.sum(dim=1)\n",
    "        \n",
    "        # LSTM processing\n",
    "        lstm_out, _ = self.lstm(embeddings)\n",
    "        \n",
    "        # Use the last hidden state\n",
    "        batch_size = lstm_out.size(0)\n",
    "        last_output = torch.zeros(batch_size, lstm_out.size(2) * 2).to(input_ids.device)\n",
    "        \n",
    "        for i in range(batch_size):\n",
    "            length = int(lengths[i].item())\n",
    "            if length > 0:\n",
    "                # Concatenate last forward and first backward\n",
    "                last_forward = lstm_out[i, length-1, :lstm_out.size(2)//2]\n",
    "                first_backward = lstm_out[i, 0, lstm_out.size(2)//2:]\n",
    "                last_output[i] = torch.cat([last_forward, first_backward])\n",
    "        \n",
    "        output = self.dropout(last_output)\n",
    "        logits = self.classifier(output)\n",
    "        return logits"
   ]
  },
  {
   "cell_type": "code",
   "execution_count": 8,
   "id": "26a4f1cd",
   "metadata": {},
   "outputs": [],
   "source": [
    "# Create Dataset class\n",
    "class MedicalDataset(Dataset):\n",
    "    def __init__(self, texts, labels, tokenizer, max_length=128):\n",
    "        self.texts = texts.reset_index(drop=True)\n",
    "        self.labels = labels.reset_index(drop=True)\n",
    "        self.tokenizer = tokenizer\n",
    "        self.max_length = max_length\n",
    "        self.encodings = tokenizer.encode(texts.tolist(), max_length=max_length)\n",
    "    \n",
    "    def __len__(self):\n",
    "        return len(self.texts)\n",
    "    \n",
    "    def __getitem__(self, idx):\n",
    "        return {\n",
    "            'input_ids': torch.tensor(self.encodings['input_ids'][idx], dtype=torch.long),\n",
    "            'attention_mask': torch.tensor(self.encodings['attention_mask'][idx], dtype=torch.long),\n",
    "            'labels': torch.tensor(self.labels.iloc[idx], dtype=torch.long)\n",
    "        }"
   ]
  },
  {
   "cell_type": "code",
   "execution_count": 9,
   "id": "9ee7b279",
   "metadata": {},
   "outputs": [
    {
     "name": "stdout",
     "output_type": "stream",
     "text": [
      "Data loaders created successfully!\n"
     ]
    }
   ],
   "source": [
    "# Create datasets and dataloaders\n",
    "train_dataset = MedicalDataset(train_texts, train_labels, tokenizer)\n",
    "val_dataset = MedicalDataset(val_texts, val_labels, tokenizer)\n",
    "test_dataset = MedicalDataset(test_texts, test_labels, tokenizer)\n",
    "\n",
    "train_loader = DataLoader(train_dataset, batch_size=32, shuffle=True)\n",
    "val_loader = DataLoader(val_dataset, batch_size=32, shuffle=False)\n",
    "test_loader = DataLoader(test_dataset, batch_size=32, shuffle=False)\n",
    "\n",
    "print(\"Data loaders created successfully!\")"
   ]
  },
  {
   "cell_type": "code",
   "execution_count": 10,
   "id": "07e71063",
   "metadata": {},
   "outputs": [],
   "source": [
    "# Very simple CNN model that always works\n",
    "class CNNTextClassifier(nn.Module):\n",
    "    def __init__(self, vocab_size, embedding_dim=128, num_classes=3):\n",
    "        super(CNNTextClassifier, self).__init__()\n",
    "        self.embedding = nn.Embedding(vocab_size, embedding_dim, padding_idx=0)\n",
    "        \n",
    "        # Multiple CNN filters as in Kim's CNN\n",
    "        self.convs = nn.ModuleList([\n",
    "            nn.Conv1d(embedding_dim, 100, kernel_size=3, padding=1),\n",
    "            nn.Conv1d(embedding_dim, 100, kernel_size=4, padding=2),\n",
    "            nn.Conv1d(embedding_dim, 100, kernel_size=5, padding=2)\n",
    "        ])\n",
    "        \n",
    "        self.dropout = nn.Dropout(0.5)\n",
    "        self.classifier = nn.Linear(300, num_classes)  # 3 filters * 100 channels\n",
    "        \n",
    "    def forward(self, input_ids, attention_mask):\n",
    "        # Get embeddings: (batch_size, seq_len, embedding_dim)\n",
    "        embeddings = self.embedding(input_ids)\n",
    "        \n",
    "        # Permute for Conv1d: (batch_size, embedding_dim, seq_len)\n",
    "        embeddings = embeddings.permute(0, 2, 1)\n",
    "        \n",
    "        # Apply each CNN filter and global max pooling\n",
    "        conv_outputs = []\n",
    "        for conv in self.convs:\n",
    "            conv_out = conv(embeddings)  # (batch_size, 100, seq_len)\n",
    "            conv_out = torch.relu(conv_out)\n",
    "            \n",
    "            # Global max pooling\n",
    "            pooled = torch.max(conv_out, dim=2)[0]  # (batch_size, 100)\n",
    "            conv_outputs.append(pooled)\n",
    "        \n",
    "        # Concatenate all CNN outputs\n",
    "        combined = torch.cat(conv_outputs, dim=1)  # (batch_size, 300)\n",
    "        \n",
    "        output = self.dropout(combined)\n",
    "        logits = self.classifier(output)\n",
    "        return logits\n",
    "\n",
    "# Training class - SEPARATE from the model class\n",
    "class TextClassifierTrainer:\n",
    "    def __init__(self, model, learning_rate=0.001):\n",
    "        self.device = torch.device(\"cuda\" if torch.cuda.is_available() else \"cpu\")\n",
    "        print(f\"Using device: {self.device}\")\n",
    "        \n",
    "        self.model = model.to(self.device)\n",
    "        self.optimizer = AdamW(self.model.parameters(), lr=learning_rate)\n",
    "        self.loss_fn = nn.CrossEntropyLoss()\n",
    "        \n",
    "        self.train_losses = []\n",
    "        self.val_losses = []\n",
    "        self.val_accuracies = []\n",
    "        self.train_accuracies = []\n",
    "    \n",
    "    def train_epoch(self, dataloader):\n",
    "        self.model.train()\n",
    "        total_loss = 0\n",
    "        all_predictions = []\n",
    "        all_labels = []\n",
    "        \n",
    "        progress_bar = tqdm.tqdm(dataloader, desc=\"Training\")\n",
    "        for batch in progress_bar:\n",
    "            self.optimizer.zero_grad()\n",
    "            \n",
    "            input_ids = batch['input_ids'].to(self.device)\n",
    "            attention_mask = batch['attention_mask'].to(self.device)\n",
    "            labels = batch['labels'].to(self.device)\n",
    "            \n",
    "            outputs = self.model(input_ids, attention_mask)\n",
    "            loss = self.loss_fn(outputs, labels)\n",
    "            \n",
    "            loss.backward()\n",
    "            self.optimizer.step()\n",
    "            \n",
    "            total_loss += loss.item()\n",
    "            predictions = torch.argmax(outputs, dim=-1)\n",
    "            \n",
    "            all_predictions.extend(predictions.cpu().numpy())\n",
    "            all_labels.extend(labels.cpu().numpy())\n",
    "            \n",
    "            progress_bar.set_postfix({'loss': f'{loss.item():.4f}'})\n",
    "        \n",
    "        accuracy = accuracy_score(all_labels, all_predictions)\n",
    "        return total_loss / len(dataloader), accuracy\n",
    "    \n",
    "    def evaluate(self, dataloader):\n",
    "        self.model.eval()\n",
    "        total_loss = 0\n",
    "        all_predictions = []\n",
    "        all_labels = []\n",
    "        \n",
    "        with torch.no_grad():\n",
    "            for batch in tqdm.tqdm(dataloader, desc=\"Evaluating\"):\n",
    "                input_ids = batch['input_ids'].to(self.device)\n",
    "                attention_mask = batch['attention_mask'].to(self.device)\n",
    "                labels = batch['labels'].to(self.device)\n",
    "                \n",
    "                outputs = self.model(input_ids, attention_mask)\n",
    "                loss = self.loss_fn(outputs, labels)\n",
    "                \n",
    "                total_loss += loss.item()\n",
    "                predictions = torch.argmax(outputs, dim=-1)\n",
    "                \n",
    "                all_predictions.extend(predictions.cpu().numpy())\n",
    "                all_labels.extend(labels.cpu().numpy())\n",
    "        \n",
    "        accuracy = accuracy_score(all_labels, all_predictions)\n",
    "        return total_loss / len(dataloader), accuracy, all_predictions, all_labels\n",
    "    \n",
    "    def train(self, train_loader, val_loader, epochs=10):\n",
    "        best_accuracy = 0\n",
    "        \n",
    "        for epoch in range(epochs):\n",
    "            print(f\"\\nEpoch {epoch + 1}/{epochs}\")\n",
    "            print(\"-\" * 50)\n",
    "            \n",
    "            # Training\n",
    "            train_loss, train_accuracy = self.train_epoch(train_loader)\n",
    "            self.train_losses.append(train_loss)\n",
    "            self.train_accuracies.append(train_accuracy)\n",
    "            \n",
    "            # Validation\n",
    "            val_loss, val_accuracy, _, _ = self.evaluate(val_loader)\n",
    "            self.val_losses.append(val_loss)\n",
    "            self.val_accuracies.append(val_accuracy)\n",
    "            \n",
    "            print(f\"Train Loss: {train_loss:.4f}, Train Acc: {train_accuracy:.4f}\")\n",
    "            print(f\"Val Loss: {val_loss:.4f}, Val Accuracy: {val_accuracy:.4f}\")\n",
    "            \n",
    "            # Save best model\n",
    "            if val_accuracy > best_accuracy:\n",
    "                best_accuracy = val_accuracy\n",
    "                torch.save({\n",
    "                    'model_state_dict': self.model.state_dict(),\n",
    "                    'optimizer_state_dict': self.optimizer.state_dict(),\n",
    "                    'val_accuracy': val_accuracy,\n",
    "                    'epoch': epoch\n",
    "                }, 'best_model.pth')\n",
    "                print(f\"New best model saved with accuracy: {val_accuracy:.4f}\")\n",
    "    \n",
    "    def plot_training_history(self):\n",
    "        plt.figure(figsize=(15, 5))\n",
    "        \n",
    "        plt.subplot(1, 3, 1)\n",
    "        plt.plot(self.train_losses, label='Train Loss', marker='o')\n",
    "        plt.plot(self.val_losses, label='Val Loss', marker='o')\n",
    "        plt.xlabel('Epoch')\n",
    "        plt.ylabel('Loss')\n",
    "        plt.legend()\n",
    "        plt.title('Training and Validation Loss')\n",
    "        plt.grid(True, alpha=0.3)\n",
    "        \n",
    "        plt.subplot(1, 3, 2)\n",
    "        plt.plot(self.train_accuracies, label='Train Accuracy', marker='o', color='green')\n",
    "        plt.plot(self.val_accuracies, label='Val Accuracy', marker='o', color='red')\n",
    "        plt.xlabel('Epoch')\n",
    "        plt.ylabel('Accuracy')\n",
    "        plt.legend()\n",
    "        plt.title('Training and Validation Accuracy')\n",
    "        plt.grid(True, alpha=0.3)\n",
    "        \n",
    "        plt.subplot(1, 3, 3)\n",
    "        # Plot both on same chart for comparison\n",
    "        plt.plot(self.train_losses, label='Train Loss', color='blue', linestyle='-', marker='o')\n",
    "        plt.plot(self.val_losses, label='Val Loss', color='blue', linestyle='--', marker='s')\n",
    "        plt.plot(self.train_accuracies, label='Train Acc', color='green', linestyle='-', marker='o')\n",
    "        plt.plot(self.val_accuracies, label='Val Acc', color='green', linestyle='--', marker='s')\n",
    "        plt.xlabel('Epoch')\n",
    "        plt.ylabel('Value')\n",
    "        plt.legend()\n",
    "        plt.title('Training History')\n",
    "        plt.grid(True, alpha=0.3)\n",
    "        \n",
    "        plt.tight_layout()\n",
    "        plt.show()\n",
    "    \n",
    "    def load_best_model(self):\n",
    "        checkpoint = torch.load('best_model.pth')\n",
    "        self.model.load_state_dict(checkpoint['model_state_dict'])\n",
    "        self.optimizer.load_state_dict(checkpoint['optimizer_state_dict'])\n",
    "        print(f\"Loaded best model from epoch {checkpoint['epoch']} with validation accuracy: {checkpoint['val_accuracy']:.4f}\")\n",
    "    \n",
    "    def get_training_summary(self):\n",
    "        \"\"\"Print a summary of the training results\"\"\"\n",
    "        if self.val_accuracies:\n",
    "            best_val_acc = max(self.val_accuracies)\n",
    "            best_epoch = self.val_accuracies.index(best_val_acc) + 1\n",
    "            final_train_acc = self.train_accuracies[-1] if self.train_accuracies else 0\n",
    "            final_val_acc = self.val_accuracies[-1] if self.val_accuracies else 0\n",
    "            \n",
    "            print(\"\\n\" + \"=\"*50)\n",
    "            print(\"TRAINING SUMMARY\")\n",
    "            print(\"=\"*50)\n",
    "            print(f\"Best Validation Accuracy: {best_val_acc:.4f} (epoch {best_epoch})\")\n",
    "            print(f\"Final Training Accuracy: {final_train_acc:.4f}\")\n",
    "            print(f\"Final Validation Accuracy: {final_val_acc:.4f}\")\n",
    "            print(f\"Total Training Epochs: {len(self.train_losses)}\")\n",
    "            print(\"=\"*50)"
   ]
  },
  {
   "cell_type": "code",
   "execution_count": 11,
   "id": "e0c42d1b",
   "metadata": {},
   "outputs": [
    {
     "name": "stdout",
     "output_type": "stream",
     "text": [
      "Vocabulary size: 218\n",
      "Using device: cpu\n"
     ]
    },
    {
     "name": "stderr",
     "output_type": "stream",
     "text": [
      "c:\\Users\\chaou\\AppData\\Local\\Programs\\Python\\Python312\\Lib\\site-packages\\tqdm\\auto.py:21: TqdmWarning: IProgress not found. Please update jupyter and ipywidgets. See https://ipywidgets.readthedocs.io/en/stable/user_install.html\n",
      "  from .autonotebook import tqdm as notebook_tqdm\n"
     ]
    },
    {
     "name": "stdout",
     "output_type": "stream",
     "text": [
      "Starting training...\n",
      "\n",
      "Epoch 1/10\n",
      "--------------------------------------------------\n"
     ]
    },
    {
     "name": "stderr",
     "output_type": "stream",
     "text": [
      "Training: 100%|██████████| 66/66 [00:03<00:00, 19.24it/s, loss=0.0002]\n",
      "Evaluating: 100%|██████████| 15/15 [00:00<00:00, 76.14it/s]\n"
     ]
    },
    {
     "name": "stdout",
     "output_type": "stream",
     "text": [
      "Train Loss: 0.0424, Train Acc: 0.9838\n",
      "Val Loss: 0.0000, Val Accuracy: 1.0000\n",
      "New best model saved with accuracy: 1.0000\n",
      "\n",
      "Epoch 2/10\n",
      "--------------------------------------------------\n"
     ]
    },
    {
     "name": "stderr",
     "output_type": "stream",
     "text": [
      "Training: 100%|██████████| 66/66 [00:03<00:00, 21.76it/s, loss=0.0000]\n",
      "Evaluating: 100%|██████████| 15/15 [00:00<00:00, 76.71it/s]\n"
     ]
    },
    {
     "name": "stdout",
     "output_type": "stream",
     "text": [
      "Train Loss: 0.0001, Train Acc: 1.0000\n",
      "Val Loss: 0.0000, Val Accuracy: 1.0000\n",
      "\n",
      "Epoch 3/10\n",
      "--------------------------------------------------\n"
     ]
    },
    {
     "name": "stderr",
     "output_type": "stream",
     "text": [
      "Training: 100%|██████████| 66/66 [00:03<00:00, 21.66it/s, loss=0.0000]\n",
      "Evaluating: 100%|██████████| 15/15 [00:00<00:00, 77.32it/s]\n"
     ]
    },
    {
     "name": "stdout",
     "output_type": "stream",
     "text": [
      "Train Loss: 0.0001, Train Acc: 1.0000\n",
      "Val Loss: 0.0000, Val Accuracy: 1.0000\n",
      "\n",
      "Epoch 4/10\n",
      "--------------------------------------------------\n"
     ]
    },
    {
     "name": "stderr",
     "output_type": "stream",
     "text": [
      "Training: 100%|██████████| 66/66 [00:02<00:00, 22.48it/s, loss=0.0000]\n",
      "Evaluating: 100%|██████████| 15/15 [00:00<00:00, 73.89it/s]\n"
     ]
    },
    {
     "name": "stdout",
     "output_type": "stream",
     "text": [
      "Train Loss: 0.0000, Train Acc: 1.0000\n",
      "Val Loss: 0.0000, Val Accuracy: 1.0000\n",
      "\n",
      "Epoch 5/10\n",
      "--------------------------------------------------\n"
     ]
    },
    {
     "name": "stderr",
     "output_type": "stream",
     "text": [
      "Training: 100%|██████████| 66/66 [00:03<00:00, 21.77it/s, loss=0.0001]\n",
      "Evaluating: 100%|██████████| 15/15 [00:00<00:00, 77.73it/s]\n"
     ]
    },
    {
     "name": "stdout",
     "output_type": "stream",
     "text": [
      "Train Loss: 0.0001, Train Acc: 1.0000\n",
      "Val Loss: 0.0000, Val Accuracy: 1.0000\n",
      "\n",
      "Epoch 6/10\n",
      "--------------------------------------------------\n"
     ]
    },
    {
     "name": "stderr",
     "output_type": "stream",
     "text": [
      "Training: 100%|██████████| 66/66 [00:03<00:00, 21.27it/s, loss=0.0002]\n",
      "Evaluating: 100%|██████████| 15/15 [00:00<00:00, 60.73it/s]\n"
     ]
    },
    {
     "name": "stdout",
     "output_type": "stream",
     "text": [
      "Train Loss: 0.0000, Train Acc: 1.0000\n",
      "Val Loss: 0.0000, Val Accuracy: 1.0000\n",
      "\n",
      "Epoch 7/10\n",
      "--------------------------------------------------\n"
     ]
    },
    {
     "name": "stderr",
     "output_type": "stream",
     "text": [
      "Training: 100%|██████████| 66/66 [00:03<00:00, 21.20it/s, loss=0.0000]\n",
      "Evaluating: 100%|██████████| 15/15 [00:00<00:00, 77.32it/s]\n"
     ]
    },
    {
     "name": "stdout",
     "output_type": "stream",
     "text": [
      "Train Loss: 0.0000, Train Acc: 1.0000\n",
      "Val Loss: 0.0000, Val Accuracy: 1.0000\n",
      "\n",
      "Epoch 8/10\n",
      "--------------------------------------------------\n"
     ]
    },
    {
     "name": "stderr",
     "output_type": "stream",
     "text": [
      "Training: 100%|██████████| 66/66 [00:03<00:00, 21.11it/s, loss=0.0001]\n",
      "Evaluating: 100%|██████████| 15/15 [00:00<00:00, 59.29it/s]\n"
     ]
    },
    {
     "name": "stdout",
     "output_type": "stream",
     "text": [
      "Train Loss: 0.0000, Train Acc: 1.0000\n",
      "Val Loss: 0.0000, Val Accuracy: 1.0000\n",
      "\n",
      "Epoch 9/10\n",
      "--------------------------------------------------\n"
     ]
    },
    {
     "name": "stderr",
     "output_type": "stream",
     "text": [
      "Training: 100%|██████████| 66/66 [00:03<00:00, 20.90it/s, loss=0.0000]\n",
      "Evaluating: 100%|██████████| 15/15 [00:00<00:00, 58.14it/s]\n"
     ]
    },
    {
     "name": "stdout",
     "output_type": "stream",
     "text": [
      "Train Loss: 0.0000, Train Acc: 1.0000\n",
      "Val Loss: 0.0000, Val Accuracy: 1.0000\n",
      "\n",
      "Epoch 10/10\n",
      "--------------------------------------------------\n"
     ]
    },
    {
     "name": "stderr",
     "output_type": "stream",
     "text": [
      "Training: 100%|██████████| 66/66 [00:03<00:00, 19.74it/s, loss=0.0000]\n",
      "Evaluating: 100%|██████████| 15/15 [00:00<00:00, 69.77it/s]"
     ]
    },
    {
     "name": "stdout",
     "output_type": "stream",
     "text": [
      "Train Loss: 0.0000, Train Acc: 1.0000\n",
      "Val Loss: 0.0000, Val Accuracy: 1.0000\n"
     ]
    },
    {
     "name": "stderr",
     "output_type": "stream",
     "text": [
      "\n"
     ]
    }
   ],
   "source": [
    "# Initialize the model and trainer\n",
    "vocab_size = len(tokenizer.word_to_idx)\n",
    "print(f\"Vocabulary size: {vocab_size}\")\n",
    "\n",
    "model = CNNTextClassifier(vocab_size=vocab_size, num_classes=3)\n",
    "trainer = TextClassifierTrainer(model, learning_rate=0.001)\n",
    "\n",
    "# Train the model\n",
    "print(\"Starting training...\")\n",
    "trainer.train(train_loader, val_loader, epochs=10)"
   ]
  },
  {
   "cell_type": "code",
   "execution_count": 12,
   "id": "fda93aa6",
   "metadata": {},
   "outputs": [
    {
     "data": {
      "image/png": "[encoded data removed]",
      "text/plain": [
       "<Figure size 1500x500 with 3 Axes>"
      ]
     },
     "metadata": {},
     "output_type": "display_data"
    },
    {
     "name": "stdout",
     "output_type": "stream",
     "text": [
      "\n",
      "==================================================\n",
      "TRAINING SUMMARY\n",
      "==================================================\n",
      "Best Validation Accuracy: 1.0000 (epoch 1)\n",
      "Final Training Accuracy: 1.0000\n",
      "Final Validation Accuracy: 1.0000\n",
      "Total Training Epochs: 10\n",
      "==================================================\n",
      "Loaded best model from epoch 0 with validation accuracy: 1.0000\n",
      "\n",
      "Evaluating on test set...\n"
     ]
    },
    {
     "name": "stderr",
     "output_type": "stream",
     "text": [
      "Evaluating: 100%|██████████| 15/15 [00:00<00:00, 59.75it/s]\n"
     ]
    },
    {
     "name": "stdout",
     "output_type": "stream",
     "text": [
      "Test Loss: 0.0000\n",
      "Test Accuracy: 1.0000\n",
      "\n",
      "Classification Report:\n",
      "                 precision    recall  f1-score   support\n",
      "\n",
      "      diagnosis       1.00      1.00      1.00       150\n",
      "patient history       1.00      1.00      1.00       150\n",
      "      treatment       1.00      1.00      1.00       150\n",
      "\n",
      "       accuracy                           1.00       450\n",
      "      macro avg       1.00      1.00      1.00       450\n",
      "   weighted avg       1.00      1.00      1.00       450\n",
      "\n"
     ]
    },
    {
     "data": {
      "text/plain": [
       "<Figure size 800x600 with 0 Axes>"
      ]
     },
     "metadata": {},
     "output_type": "display_data"
    },
    {
     "data": {
      "image/png": "[encoded data removed]",
      "text/plain": [
       "<Figure size 640x480 with 2 Axes>"
      ]
     },
     "metadata": {},
     "output_type": "display_data"
    }
   ],
   "source": [
    "# Plot training history\n",
    "trainer.plot_training_history()\n",
    "\n",
    "# Print training summary\n",
    "trainer.get_training_summary()\n",
    "\n",
    "# Load best model and evaluate on test set\n",
    "trainer.load_best_model()\n",
    "\n",
    "print(\"\\nEvaluating on test set...\")\n",
    "test_loss, test_accuracy, test_predictions, test_true = trainer.evaluate(test_loader)\n",
    "\n",
    "print(f\"Test Loss: {test_loss:.4f}\")\n",
    "print(f\"Test Accuracy: {test_accuracy:.4f}\")\n",
    "\n",
    "# Classification report\n",
    "print(\"\\nClassification Report:\")\n",
    "print(classification_report(test_true, test_predictions, target_names=le.classes_))\n",
    "\n",
    "# Confusion matrix\n",
    "plt.figure(figsize=(8, 6))\n",
    "cm = confusion_matrix(test_true, test_predictions)\n",
    "disp = ConfusionMatrixDisplay(confusion_matrix=cm, display_labels=le.classes_)\n",
    "disp.plot(cmap=\"Blues\", values_format=\"d\")\n",
    "plt.title(\"Confusion Matrix - Test Set\")\n",
    "plt.tight_layout()\n",
    "plt.show()"
   ]
  },
  {
   "cell_type": "code",
   "execution_count": 13,
   "id": "6be42ba9",
   "metadata": {},
   "outputs": [
    {
     "name": "stdout",
     "output_type": "stream",
     "text": [
      "Model saved successfully as 'medical_text_classifier_complete.pth'\n",
      "Trainer state saved as 'trainer_state.pth'\n"
     ]
    }
   ],
   "source": [
    "# Save the complete model\n",
    "torch.save({\n",
    "    'model_state_dict': trainer.model.state_dict(),\n",
    "    'tokenizer_vocab': tokenizer.word_to_idx,\n",
    "    'label_encoder': le.classes_,\n",
    "    'model_config': {\n",
    "        'vocab_size': vocab_size,\n",
    "        'embedding_dim': 128,\n",
    "        'num_classes': 3,\n",
    "        'model_type': 'cnn'\n",
    "    }\n",
    "}, 'medical_text_classifier_complete.pth')\n",
    "\n",
    "print(\"Model saved successfully as 'medical_text_classifier_complete.pth'\")\n",
    "\n",
    "# Also save the trainer state for resuming training if needed\n",
    "torch.save({\n",
    "    'model_state_dict': trainer.model.state_dict(),\n",
    "    'optimizer_state_dict': trainer.optimizer.state_dict(),\n",
    "    'train_losses': trainer.train_losses,\n",
    "    'val_losses': trainer.val_losses,\n",
    "    'train_accuracies': trainer.train_accuracies,\n",
    "    'val_accuracies': trainer.val_accuracies,\n",
    "}, 'trainer_state.pth')\n",
    "\n",
    "print(\"Trainer state saved as 'trainer_state.pth'\")"
   ]
  },
  {
   "cell_type": "code",
   "execution_count": 14,
   "id": "94bb575a",
   "metadata": {},
   "outputs": [
    {
     "name": "stdout",
     "output_type": "stream",
     "text": [
      "Examining sample predictions...\n",
      "============================================================\n",
      "\n",
      "Sample 1:\n",
      "Text: The patient is other, age: 33, height: 189.4 cm, weight: 66.4 kg, with bmi: , having hypertension as...\n",
      "True: patient history | Predicted: patient history\n",
      "Match: True\n",
      "\n",
      "Sample 2:\n",
      "Text: The treatment provided was amoxicillin, for none, 400 mg....\n",
      "True: treatment | Predicted: treatment\n",
      "Match: True\n",
      "\n",
      "Sample 3:\n",
      "Text: The patient was diagnosed with infection, nausea, joint pain, cough....\n",
      "True: diagnosis | Predicted: diagnosis\n",
      "Match: True\n",
      "\n",
      "Sample 4:\n",
      "Text: The treatment provided was amoxicillin, for 10 days, 200 mg....\n",
      "True: treatment | Predicted: treatment\n",
      "Match: True\n",
      "\n",
      "Sample 5:\n",
      "Text: The treatment provided was ibuprofen, for none, 400 mg....\n",
      "True: treatment | Predicted: treatment\n",
      "Match: True\n"
     ]
    }
   ],
   "source": [
    "# Let's examine some actual predictions to verify the results\n",
    "print(\"Examining sample predictions...\")\n",
    "print(\"=\" * 60)\n",
    "\n",
    "# Get a few test samples\n",
    "test_samples = 5\n",
    "for i in range(test_samples):\n",
    "    sample_text = test_texts.iloc[i]\n",
    "    true_label = le.inverse_transform([test_true[i]])[0]\n",
    "    pred_label = le.inverse_transform([test_predictions[i]])[0]\n",
    "    \n",
    "    print(f\"\\nSample {i+1}:\")\n",
    "    print(f\"Text: {sample_text[:100]}...\")\n",
    "    print(f\"True: {true_label} | Predicted: {pred_label}\")\n",
    "    print(f\"Match: {true_label == pred_label}\")\n"
   ]
  },
  {
   "cell_type": "code",
   "execution_count": 15,
   "id": "ddc3da50",
   "metadata": {},
   "outputs": [
    {
     "name": "stdout",
     "output_type": "stream",
     "text": [
      "\n",
      "Testing prediction confidence:\n",
      "==================================================\n",
      "\n",
      "Text: The patient was diagnosed with pneumonia and prescribed antibiotics\n",
      "Prediction: diagnosis | Confidence: 0.9996\n",
      "\n",
      "Text: Patient is 45 years old with height 170 cm and weight 70 kg\n",
      "Prediction: patient history | Confidence: 0.9806\n",
      "\n",
      "Text: Treatment plan includes physical therapy twice weekly for 4 weeks\n",
      "Prediction: treatment | Confidence: 0.6696\n"
     ]
    }
   ],
   "source": [
    "# Let's also check the confidence scores\n",
    "def get_prediction_confidence(text):\n",
    "    \"\"\"Get model confidence for a given text\"\"\"\n",
    "    encoding = tokenizer.encode([text], max_length=128)\n",
    "    input_ids = torch.tensor(encoding['input_ids']).to(trainer.device)\n",
    "    attention_mask = torch.tensor(encoding['attention_mask']).to(trainer.device)\n",
    "    \n",
    "    trainer.model.eval()\n",
    "    with torch.no_grad():\n",
    "        outputs = trainer.model(input_ids, attention_mask)\n",
    "        probabilities = torch.softmax(outputs, dim=1)\n",
    "        confidence, predicted = torch.max(probabilities, 1)\n",
    "    \n",
    "    return le.inverse_transform([predicted.cpu().numpy()[0]])[0], confidence.item()\n",
    "\n",
    "# Test confidence on some examples\n",
    "print(\"\\nTesting prediction confidence:\")\n",
    "print(\"=\" * 50)\n",
    "test_examples = [\n",
    "    \"The patient was diagnosed with pneumonia and prescribed antibiotics\",  # Should be diagnosis\n",
    "    \"Patient is 45 years old with height 170 cm and weight 70 kg\",  # Should be patient history  \n",
    "    \"Treatment plan includes physical therapy twice weekly for 4 weeks\",  # Should be treatment\n",
    "]\n",
    "\n",
    "for example in test_examples:\n",
    "    prediction, confidence = get_prediction_confidence(example)\n",
    "    print(f\"\\nText: {example}\")\n",
    "    print(f\"Prediction: {prediction} | Confidence: {confidence:.4f}\")"
   ]
  },
  {
   "cell_type": "code",
   "execution_count": 16,
   "id": "62529962",
   "metadata": {},
   "outputs": [
    {
     "name": "stdout",
     "output_type": "stream",
     "text": [
      "\n",
      "Creating challenging test cases...\n",
      "==================================================\n",
      "\n",
      "Text: Diagnosis: hypertension. Treatment: lisinopril 10mg daily\n",
      "Prediction: treatment | Confidence: 0.6010\n",
      "\n",
      "Text: Patient history shows previous diagnosis of diabetes\n",
      "Prediction: patient history | Confidence: 0.8278\n",
      "\n",
      "Text: Treatment history includes physical therapy\n",
      "Prediction: treatment | Confidence: 0.5876\n",
      "\n",
      "Text: The 65-year-old patient was diagnosed and treated for infection\n",
      "Prediction: diagnosis | Confidence: 0.9731\n"
     ]
    }
   ],
   "source": [
    "# Let's create a more challenging test - mix up the texts\n",
    "print(\"\\nCreating challenging test cases...\")\n",
    "print(\"=\" * 50)\n",
    "\n",
    "challenging_examples = [\n",
    "    \"Diagnosis: hypertension. Treatment: lisinopril 10mg daily\",  # Mixed diagnosis + treatment\n",
    "    \"Patient history shows previous diagnosis of diabetes\",  # Mixed history + diagnosis\n",
    "    \"Treatment history includes physical therapy\",  # Mixed treatment + history\n",
    "    \"The 65-year-old patient was diagnosed and treated for infection\",  # Mixed all\n",
    "]\n",
    "\n",
    "for example in challenging_examples:\n",
    "    prediction, confidence = get_prediction_confidence(example)\n",
    "    print(f\"\\nText: {example}\")\n",
    "    print(f\"Prediction: {prediction} | Confidence: {confidence:.4f}\")"
   ]
  },
  {
   "cell_type": "code",
   "execution_count": 17,
   "id": "2f0fc182",
   "metadata": {},
   "outputs": [
    {
     "name": "stdout",
     "output_type": "stream",
     "text": [
      "SOLUTIONS FOR BETTER GENERALIZATION:\n",
      "============================================================\n",
      "\n",
      "1. **DIVERSIFY THE TEXT PATTERNS**:\n",
      "   - Remove the formulaic starting phrases\n",
      "   - Use various sentence structures\n",
      "   - Include real medical notes\n",
      "\n",
      "2. **DATA AUGMENTATION**:\n",
      "   - Paraphrase existing texts\n",
      "   - Add noise and variations\n",
      "   - Mix sentence structures\n",
      "\n",
      "3. **BETTER PREPROCESSING**:\n",
      "   - Remove the obvious pattern markers\n",
      "   - Focus on medical content, not structure\n",
      "\n",
      "\n",
      "TESTING PATTERN REMOVAL:\n",
      "========================================\n",
      "Original: The patient was diagnosed with pneumonia\n",
      "Cleaned:  pneumonia\n",
      "\n",
      "Original: The patient is male, age: 45, height: 180 cm\n",
      "Cleaned:  male, age: 45, height: 180 cm\n",
      "\n",
      "Original: The treatment provided was amoxicillin\n",
      "Cleaned:  amoxicillin\n",
      "\n"
     ]
    }
   ],
   "source": [
    "# SOLUTION 1: Create a more robust dataset\n",
    "print(\"SOLUTIONS FOR BETTER GENERALIZATION:\")\n",
    "print(\"=\" * 60)\n",
    "\n",
    "print(\"\"\"\n",
    "1. **DIVERSIFY THE TEXT PATTERNS**:\n",
    "   - Remove the formulaic starting phrases\n",
    "   - Use various sentence structures\n",
    "   - Include real medical notes\n",
    "\n",
    "2. **DATA AUGMENTATION**:\n",
    "   - Paraphrase existing texts\n",
    "   - Add noise and variations\n",
    "   - Mix sentence structures\n",
    "\n",
    "3. **BETTER PREPROCESSING**:\n",
    "   - Remove the obvious pattern markers\n",
    "   - Focus on medical content, not structure\n",
    "\"\"\")\n",
    "\n",
    "# Let's create an improved version by removing the obvious patterns\n",
    "def remove_formulaic_patterns(text):\n",
    "    \"\"\"Remove the obvious starting patterns that cause overfitting\"\"\"\n",
    "    patterns_to_remove = [\n",
    "        \"The patient was diagnosed with \",\n",
    "        \"The patient is \",\n",
    "        \"The treatment provided was \",\n",
    "        \"The patient is other, \",\n",
    "        \"The treatment provided was \"\n",
    "    ]\n",
    "    \n",
    "    cleaned_text = text\n",
    "    for pattern in patterns_to_remove:\n",
    "        if cleaned_text.startswith(pattern):\n",
    "            cleaned_text = cleaned_text[len(pattern):]\n",
    "            break\n",
    "    \n",
    "    return cleaned_text.strip()\n",
    "\n",
    "# Test the pattern removal\n",
    "print(\"\\nTESTING PATTERN REMOVAL:\")\n",
    "print(\"=\" * 40)\n",
    "sample_texts = [\n",
    "    \"The patient was diagnosed with pneumonia\",\n",
    "    \"The patient is male, age: 45, height: 180 cm\", \n",
    "    \"The treatment provided was amoxicillin\"\n",
    "]\n",
    "\n",
    "for text in sample_texts:\n",
    "    cleaned = remove_formulaic_patterns(text)\n",
    "    print(f\"Original: {text}\")\n",
    "    print(f\"Cleaned:  {cleaned}\\n\")"
   ]
  },
  {
   "cell_type": "code",
   "execution_count": 18,
   "id": "2a0ad049",
   "metadata": {},
   "outputs": [
    {
     "name": "stdout",
     "output_type": "stream",
     "text": [
      "RETRAINING ON CLEANED DATA:\n",
      "========================================\n",
      "Cleaned datasets created!\n"
     ]
    }
   ],
   "source": [
    "# SOLUTION 2: Retrain on cleaned data\n",
    "print(\"RETRAINING ON CLEANED DATA:\")\n",
    "print(\"=\" * 40)\n",
    "\n",
    "# Create cleaned dataset\n",
    "data_cleaned = data.copy()\n",
    "data_cleaned['text_cleaned'] = data_cleaned['text'].apply(remove_formulaic_patterns)\n",
    "\n",
    "# Split the cleaned data\n",
    "train_texts_clean, temp_texts_clean, train_labels_clean, temp_labels_clean = train_test_split(\n",
    "    data_cleaned[\"text_cleaned\"], data_cleaned[\"label\"], test_size=0.3, random_state=42, stratify=data_cleaned[\"label\"]\n",
    ")\n",
    "val_texts_clean, test_texts_clean, val_labels_clean, test_labels_clean = train_test_split(\n",
    "    temp_texts_clean, temp_labels_clean, test_size=0.5, random_state=42, stratify=temp_labels_clean\n",
    ")\n",
    "\n",
    "# Create cleaned datasets\n",
    "train_dataset_clean = MedicalDataset(train_texts_clean, train_labels_clean, tokenizer)\n",
    "val_dataset_clean = MedicalDataset(val_texts_clean, val_labels_clean, tokenizer)\n",
    "test_dataset_clean = MedicalDataset(test_texts_clean, test_labels_clean, tokenizer)\n",
    "\n",
    "train_loader_clean = DataLoader(train_dataset_clean, batch_size=32, shuffle=True)\n",
    "val_loader_clean = DataLoader(val_dataset_clean, batch_size=32, shuffle=False)\n",
    "test_loader_clean = DataLoader(test_dataset_clean, batch_size=32, shuffle=False)\n",
    "\n",
    "print(\"Cleaned datasets created!\")"
   ]
  },
  {
   "cell_type": "code",
   "execution_count": 20,
   "id": "d0c94684",
   "metadata": {},
   "outputs": [
    {
     "name": "stdout",
     "output_type": "stream",
     "text": [
      "TRAINING NEW MODEL ON CLEANED DATA:\n",
      "========================================\n",
      "Using device: cpu\n",
      "\n",
      "Epoch 1/5\n",
      "--------------------------------------------------\n"
     ]
    },
    {
     "name": "stderr",
     "output_type": "stream",
     "text": [
      "Training: 100%|██████████| 66/66 [00:02<00:00, 22.13it/s, loss=0.0005]\n",
      "Evaluating: 100%|██████████| 15/15 [00:00<00:00, 77.32it/s]\n"
     ]
    },
    {
     "name": "stdout",
     "output_type": "stream",
     "text": [
      "Train Loss: 0.0634, Train Acc: 0.9790\n",
      "Val Loss: 0.0006, Val Accuracy: 1.0000\n",
      "New best model saved with accuracy: 1.0000\n",
      "\n",
      "Epoch 2/5\n",
      "--------------------------------------------------\n"
     ]
    },
    {
     "name": "stderr",
     "output_type": "stream",
     "text": [
      "Training: 100%|██████████| 66/66 [00:03<00:00, 21.54it/s, loss=0.0004]\n",
      "Evaluating: 100%|██████████| 15/15 [00:00<00:00, 78.13it/s]\n"
     ]
    },
    {
     "name": "stdout",
     "output_type": "stream",
     "text": [
      "Train Loss: 0.0007, Train Acc: 1.0000\n",
      "Val Loss: 0.0003, Val Accuracy: 1.0000\n",
      "\n",
      "Epoch 3/5\n",
      "--------------------------------------------------\n"
     ]
    },
    {
     "name": "stderr",
     "output_type": "stream",
     "text": [
      "Training: 100%|██████████| 66/66 [00:02<00:00, 22.46it/s, loss=0.0002]\n",
      "Evaluating: 100%|██████████| 15/15 [00:00<00:00, 74.15it/s]\n"
     ]
    },
    {
     "name": "stdout",
     "output_type": "stream",
     "text": [
      "Train Loss: 0.0004, Train Acc: 1.0000\n",
      "Val Loss: 0.0002, Val Accuracy: 1.0000\n",
      "\n",
      "Epoch 4/5\n",
      "--------------------------------------------------\n"
     ]
    },
    {
     "name": "stderr",
     "output_type": "stream",
     "text": [
      "Training: 100%|██████████| 66/66 [00:03<00:00, 20.84it/s, loss=0.0001]\n",
      "Evaluating: 100%|██████████| 15/15 [00:00<00:00, 75.00it/s]\n"
     ]
    },
    {
     "name": "stdout",
     "output_type": "stream",
     "text": [
      "Train Loss: 0.0003, Train Acc: 1.0000\n",
      "Val Loss: 0.0001, Val Accuracy: 1.0000\n",
      "\n",
      "Epoch 5/5\n",
      "--------------------------------------------------\n"
     ]
    },
    {
     "name": "stderr",
     "output_type": "stream",
     "text": [
      "Training: 100%|██████████| 66/66 [00:03<00:00, 21.84it/s, loss=0.0000]\n",
      "Evaluating: 100%|██████████| 15/15 [00:00<00:00, 62.30it/s]"
     ]
    },
    {
     "name": "stdout",
     "output_type": "stream",
     "text": [
      "Train Loss: 0.0002, Train Acc: 1.0000\n",
      "Val Loss: 0.0001, Val Accuracy: 1.0000\n"
     ]
    },
    {
     "name": "stderr",
     "output_type": "stream",
     "text": [
      "\n"
     ]
    }
   ],
   "source": [
    "# SOLUTION 3: Train a new model on cleaned data\n",
    "print(\"TRAINING NEW MODEL ON CLEANED DATA:\")\n",
    "print(\"=\" * 40)\n",
    "\n",
    "# Use a more regularized model\n",
    "model_clean = CNNTextClassifier(vocab_size=vocab_size, num_classes=3)\n",
    "trainer_clean = TextClassifierTrainer(model_clean, learning_rate=0.001)\n",
    "\n",
    "# Train for fewer epochs to avoid overfitting\n",
    "trainer_clean.train(train_loader_clean, val_loader_clean, epochs=5)"
   ]
  },
  {
   "cell_type": "code",
   "execution_count": 21,
   "id": "aa5016a2",
   "metadata": {},
   "outputs": [
    {
     "name": "stdout",
     "output_type": "stream",
     "text": [
      "EVALUATING CLEANED MODEL:\n",
      "========================================\n",
      "Loaded best model from epoch 0 with validation accuracy: 1.0000\n"
     ]
    },
    {
     "name": "stderr",
     "output_type": "stream",
     "text": [
      "Evaluating:   0%|          | 0/15 [00:00<?, ?it/s]"
     ]
    },
    {
     "name": "stderr",
     "output_type": "stream",
     "text": [
      "Evaluating: 100%|██████████| 15/15 [00:00<00:00, 62.50it/s]"
     ]
    },
    {
     "name": "stdout",
     "output_type": "stream",
     "text": [
      "Cleaned Model Test Accuracy: 1.0000\n",
      "Original Model Test Accuracy: 1.0000\n",
      "⚠️  Still too perfect - may need more data variation\n"
     ]
    },
    {
     "name": "stderr",
     "output_type": "stream",
     "text": [
      "\n"
     ]
    }
   ],
   "source": [
    "# Evaluate the cleaned model\n",
    "print(\"EVALUATING CLEANED MODEL:\")\n",
    "print(\"=\" * 40)\n",
    "\n",
    "trainer_clean.load_best_model()\n",
    "test_loss_clean, test_accuracy_clean, test_pred_clean, test_true_clean = trainer_clean.evaluate(test_loader_clean)\n",
    "\n",
    "print(f\"Cleaned Model Test Accuracy: {test_accuracy_clean:.4f}\")\n",
    "print(f\"Original Model Test Accuracy: 1.0000\")\n",
    "\n",
    "if test_accuracy_clean < 0.95:\n",
    "    print(\"✅ Better! The model is now learning actual content, not just patterns\")\n",
    "else:\n",
    "    print(\"⚠️  Still too perfect - may need more data variation\")"
   ]
  },
  {
   "cell_type": "code",
   "execution_count": 22,
   "id": "485c775e",
   "metadata": {},
   "outputs": [
    {
     "name": "stdout",
     "output_type": "stream",
     "text": [
      "\n",
      "TESTING CLEANED MODEL ON CHALLENGING CASES:\n",
      "==================================================\n",
      "\n",
      "Text: Diagnosis: hypertension. Treatment: lisinopril 10mg daily\n",
      "Prediction: diagnosis | Confidence: 0.9455\n",
      "\n",
      "Text: Patient history shows previous diagnosis of diabetes\n",
      "Prediction: diagnosis | Confidence: 0.4408\n",
      "\n",
      "Text: Treatment history includes physical therapy\n",
      "Prediction: diagnosis | Confidence: 0.6961\n",
      "\n",
      "Text: The 65-year-old patient was diagnosed and treated for infection\n",
      "Prediction: diagnosis | Confidence: 0.5734\n",
      "\n",
      "Text: We prescribed antibiotics for the infection\n",
      "Prediction: diagnosis | Confidence: 0.6335\n",
      "\n",
      "Text: Medical history: hypertension, diabetes\n",
      "Prediction: diagnosis | Confidence: 0.7452\n",
      "\n",
      "Text: Assessment: pneumonia, treatment started with antibiotics\n",
      "Prediction: diagnosis | Confidence: 0.6481\n"
     ]
    }
   ],
   "source": [
    "# Test the cleaned model on our challenging cases\n",
    "print(\"\\nTESTING CLEANED MODEL ON CHALLENGING CASES:\")\n",
    "print(\"=\" * 50)\n",
    "\n",
    "challenging_cases = [\n",
    "    \"Diagnosis: hypertension. Treatment: lisinopril 10mg daily\",\n",
    "    \"Patient history shows previous diagnosis of diabetes\", \n",
    "    \"Treatment history includes physical therapy\",\n",
    "    \"The 65-year-old patient was diagnosed and treated for infection\",\n",
    "    \"We prescribed antibiotics for the infection\",\n",
    "    \"Medical history: hypertension, diabetes\",\n",
    "    \"Assessment: pneumonia, treatment started with antibiotics\"\n",
    "]\n",
    "\n",
    "def predict_with_clean_model(text):\n",
    "    encoding = tokenizer.encode([text], max_length=128)\n",
    "    input_ids = torch.tensor(encoding['input_ids']).to(trainer_clean.device)\n",
    "    attention_mask = torch.tensor(encoding['attention_mask']).to(trainer_clean.device)\n",
    "    \n",
    "    trainer_clean.model.eval()\n",
    "    with torch.no_grad():\n",
    "        outputs = trainer_clean.model(input_ids, attention_mask)\n",
    "        probabilities = torch.softmax(outputs, dim=1)\n",
    "        confidence, predicted = torch.max(probabilities, 1)\n",
    "    \n",
    "    return le.inverse_transform([predicted.cpu().numpy()[0]])[0], confidence.item()\n",
    "\n",
    "for text in challenging_cases:\n",
    "    prediction, confidence = predict_with_clean_model(text)\n",
    "    print(f\"\\nText: {text}\")\n",
    "    print(f\"Prediction: {prediction} | Confidence: {confidence:.4f}\")"
   ]
  }
 ],
 "metadata": {
  "kernelspec": {
   "display_name": "Python 3",
   "language": "python",
   "name": "python3"
  },
  "language_info": {
   "codemirror_mode": {
    "name": "ipython",
    "version": 3
   },
   "file_extension": ".py",
   "mimetype": "text/x-python",
   "name": "python",
   "nbconvert_exporter": "python",
   "pygments_lexer": "ipython3",
   "version": "3.12.3"
  }
 },
 "nbformat": 4,
 "nbformat_minor": 5
}
